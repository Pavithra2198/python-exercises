{
 "cells": [
  {
   "cell_type": "raw",
   "metadata": {
    "colab_type": "text",
    "id": "3rJl1IuGNDuW"
   },
   "source": [
    "1. For the given lists answer the below questions \n",
    "List1 = ['a','b','c']  \n",
    "List2 = [1,2,3,4]"
   ]
  },
  {
   "cell_type": "raw",
   "metadata": {
    "colab_type": "text",
    "id": "5LdqB7aSNDuX"
   },
   "source": [
    "1.A. Repeat the elements present in list1 thrice\n",
    "Output should be ['a', 'b', 'c', 'a', 'b', 'c', 'a', 'b', 'c']"
   ]
  },
  {
   "cell_type": "code",
   "execution_count": 2,
   "metadata": {
    "colab": {},
    "colab_type": "code",
    "id": "RT9WxCvUNDuY"
   },
   "outputs": [
    {
     "name": "stdout",
     "output_type": "stream",
     "text": [
      "['a', 'b', 'c', 'a', 'b', 'c', 'a', 'b', 'c']\n"
     ]
    }
   ],
   "source": [
    "List1 = ['a','b','c']  \n",
    "print(List1*3)"
   ]
  },
  {
   "cell_type": "raw",
   "metadata": {
    "colab_type": "text",
    "id": "DXPXh29DNDub"
   },
   "source": [
    "1.B.Concat the elements present in list1 and list2"
   ]
  },
  {
   "cell_type": "code",
   "execution_count": 3,
   "metadata": {
    "colab": {},
    "colab_type": "code",
    "id": "DeSeXnX3NDuc"
   },
   "outputs": [
    {
     "name": "stdout",
     "output_type": "stream",
     "text": [
      "['a', 'b', 'c', 1, 2, 3, 4]\n"
     ]
    }
   ],
   "source": [
    "List1 = ['a','b','c']  \n",
    "List2 = [1,2,3,4]\n",
    "List=List1+List2\n",
    "print(List)"
   ]
  },
  {
   "cell_type": "raw",
   "metadata": {
    "colab_type": "text",
    "id": "pml7ky7kNDue"
   },
   "source": [
    "1.C. Use list1, check whether character 'a' is present in the list"
   ]
  },
  {
   "cell_type": "code",
   "execution_count": 5,
   "metadata": {
    "colab": {},
    "colab_type": "code",
    "id": "bDjtmOTxNDuf"
   },
   "outputs": [
    {
     "name": "stdout",
     "output_type": "stream",
     "text": [
      "True\n"
     ]
    }
   ],
   "source": [
    "List1 = ['a','b','c'] \n",
    "print('a' in List1)"
   ]
  },
  {
   "cell_type": "raw",
   "metadata": {
    "colab_type": "text",
    "id": "HFjYnNCMNDuh"
   },
   "source": [
    "1.D. Check the length of list1"
   ]
  },
  {
   "cell_type": "code",
   "execution_count": 8,
   "metadata": {
    "colab": {},
    "colab_type": "code",
    "id": "nyYVbkpoNDuh"
   },
   "outputs": [
    {
     "name": "stdout",
     "output_type": "stream",
     "text": [
      "3\n"
     ]
    }
   ],
   "source": [
    "print(len(List1))"
   ]
  },
  {
   "cell_type": "raw",
   "metadata": {
    "colab_type": "text",
    "id": "X2q_9d2iNDuk"
   },
   "source": [
    "1.E. Using for loop iterate over the elements present in the list and print it"
   ]
  },
  {
   "cell_type": "code",
   "execution_count": 15,
   "metadata": {
    "colab": {},
    "colab_type": "code",
    "id": "NE7U7b63NDul"
   },
   "outputs": [
    {
     "name": "stdout",
     "output_type": "stream",
     "text": [
      "list: ['a', 'b', 'c', 1, 2, 3, 4]\n",
      "a\n",
      "b\n",
      "c\n",
      "1\n",
      "2\n",
      "3\n",
      "4\n"
     ]
    }
   ],
   "source": [
    "print(\"list:\",List)\n",
    "for i in List:\n",
    "    print(i)"
   ]
  },
  {
   "cell_type": "raw",
   "metadata": {
    "colab_type": "text",
    "id": "by7bBXV2NDun"
   },
   "source": [
    "2. Using the below tuple, answer the below questions\n",
    "  Tuple1 = (11,4,21,4,115,6,13,51,4,16,77,8,17,17,876,89,8765,14,51,11,876,9,3456,4234)\n"
   ]
  },
  {
   "cell_type": "raw",
   "metadata": {
    "colab_type": "text",
    "id": "sYO5rayHNDun"
   },
   "source": [
    "2.A. Fetch the item in tuple with maximum value"
   ]
  },
  {
   "cell_type": "code",
   "execution_count": 17,
   "metadata": {
    "colab": {},
    "colab_type": "code",
    "id": "0813gtlsNDuo"
   },
   "outputs": [
    {
     "name": "stdout",
     "output_type": "stream",
     "text": [
      "8765\n"
     ]
    }
   ],
   "source": [
    "Tuple1 = (11,4,21,4,115,6,13,51,4,16,77,8,17,17,876,89,8765,14,51,11,876,9,3456,4234)\n",
    "print(max(Tuple1))"
   ]
  },
  {
   "cell_type": "raw",
   "metadata": {
    "colab_type": "text",
    "id": "XcymUbppNDur"
   },
   "source": [
    "2.B.  Fetch the item in tuple with minimum value"
   ]
  },
  {
   "cell_type": "code",
   "execution_count": 18,
   "metadata": {
    "colab": {},
    "colab_type": "code",
    "id": "lpmQA7pjNDur"
   },
   "outputs": [
    {
     "name": "stdout",
     "output_type": "stream",
     "text": [
      "4\n"
     ]
    }
   ],
   "source": [
    "print(min(Tuple1))"
   ]
  },
  {
   "cell_type": "raw",
   "metadata": {
    "colab_type": "text",
    "id": "SRVy5lcVNDut"
   },
   "source": [
    "2.C.Convert the string 'my string' to a tuple"
   ]
  },
  {
   "cell_type": "code",
   "execution_count": 20,
   "metadata": {
    "colab": {},
    "colab_type": "code",
    "id": "w922ZfGcNDuu"
   },
   "outputs": [
    {
     "name": "stdout",
     "output_type": "stream",
     "text": [
      "('m', 'y', ' ', 's', 't', 'r', 'i', 'n', 'g')\n"
     ]
    }
   ],
   "source": [
    "string=\"my string\"\n",
    "print(tuple(string))"
   ]
  },
  {
   "cell_type": "raw",
   "metadata": {
    "colab_type": "text",
    "id": "zoglai2INDuw"
   },
   "source": [
    "3. Use the below list and answer the below questions\n",
    "           List = ['white','red', 'blue', 'green','blue','yellow', 'black']\n"
   ]
  },
  {
   "cell_type": "raw",
   "metadata": {
    "colab_type": "text",
    "id": "BtWytSvENDuw"
   },
   "source": [
    "3.A) Append 'C' to the list"
   ]
  },
  {
   "cell_type": "code",
   "execution_count": 24,
   "metadata": {
    "colab": {},
    "colab_type": "code",
    "id": "muqTp3oONDux"
   },
   "outputs": [
    {
     "name": "stdout",
     "output_type": "stream",
     "text": [
      "['white', 'red', 'blue', 'green', 'blue', 'yellow', 'black', 'c']\n"
     ]
    }
   ],
   "source": [
    "List = ['white','red', 'blue', 'green','blue','yellow', 'black']\n",
    "List.append(\"c\")\n",
    "print(List)"
   ]
  },
  {
   "cell_type": "raw",
   "metadata": {
    "colab_type": "text",
    "id": "hBDf5ARONDu2"
   },
   "source": [
    "3.B) Clear all the elements present in the list."
   ]
  },
  {
   "cell_type": "code",
   "execution_count": 25,
   "metadata": {
    "colab": {},
    "colab_type": "code",
    "id": "rQLMpwXkNDu3"
   },
   "outputs": [
    {
     "name": "stdout",
     "output_type": "stream",
     "text": [
      "[]\n"
     ]
    }
   ],
   "source": [
    "List = ['white','red', 'blue', 'green','blue','yellow', 'black']\n",
    "List.clear()\n",
    "print(List)"
   ]
  },
  {
   "cell_type": "raw",
   "metadata": {
    "colab_type": "text",
    "id": "Xwjs9u24NDu7"
   },
   "source": [
    "3.C) Copy the list and store it in another variable."
   ]
  },
  {
   "cell_type": "code",
   "execution_count": 27,
   "metadata": {
    "colab": {},
    "colab_type": "code",
    "id": "rDTtMNlZNDu8"
   },
   "outputs": [
    {
     "name": "stdout",
     "output_type": "stream",
     "text": [
      "backup list:  ['white', 'red', 'blue', 'green', 'blue', 'yellow', 'black']\n"
     ]
    }
   ],
   "source": [
    "List = ['white','red', 'blue', 'green','blue','yellow', 'black']\n",
    "backup_list=List\n",
    "print(\"backup list: \",backup_list)"
   ]
  },
  {
   "cell_type": "raw",
   "metadata": {
    "colab_type": "text",
    "id": "aWKmQpzPNDu-"
   },
   "source": [
    "3. D) Count how many times 'blue' is present in the list"
   ]
  },
  {
   "cell_type": "code",
   "execution_count": 31,
   "metadata": {
    "colab": {},
    "colab_type": "code",
    "id": "hJDqcqddNDu_"
   },
   "outputs": [
    {
     "name": "stdout",
     "output_type": "stream",
     "text": [
      "2\n"
     ]
    }
   ],
   "source": [
    "List = ['white','red', 'blue', 'green','blue','yellow', 'black']\n",
    "print(List.count('blue'))"
   ]
  },
  {
   "cell_type": "raw",
   "metadata": {
    "colab_type": "text",
    "id": "5_LVtewTNDvB"
   },
   "source": [
    "3.E) Append List1 = ['a', 'e', 'i', 'o', 'i', 'u','y','w','tre','ytre','uyt'] to the existing list"
   ]
  },
  {
   "cell_type": "code",
   "execution_count": 34,
   "metadata": {
    "colab": {},
    "colab_type": "code",
    "id": "f1-JQ0-PNDvC"
   },
   "outputs": [
    {
     "name": "stdout",
     "output_type": "stream",
     "text": [
      "['white', 'red', 'blue', 'green', 'blue', 'yellow', 'black', ['a', 'e', 'i', 'o', 'i', 'u', 'y', 'w', 'tre', 'ytre', 'uyt']]\n"
     ]
    }
   ],
   "source": [
    "List = ['white','red', 'blue', 'green','blue','yellow', 'black']\n",
    "List1 = ['a', 'e', 'i', 'o', 'i', 'u','y','w','tre','ytre','uyt']\n",
    "List.append(List1)\n",
    "print(List)"
   ]
  },
  {
   "cell_type": "raw",
   "metadata": {
    "colab_type": "text",
    "id": "bCp1Tmh5NDvE"
   },
   "source": [
    "3.F) Find the index position of 'red'"
   ]
  },
  {
   "cell_type": "code",
   "execution_count": 35,
   "metadata": {
    "colab": {},
    "colab_type": "code",
    "id": "W4EPXQ2DNDvF"
   },
   "outputs": [
    {
     "data": {
      "text/plain": [
       "1"
      ]
     },
     "execution_count": 35,
     "metadata": {},
     "output_type": "execute_result"
    }
   ],
   "source": [
    "List.index('red')"
   ]
  },
  {
   "cell_type": "raw",
   "metadata": {
    "colab_type": "text",
    "id": "bBgon2JMNDvK"
   },
   "source": [
    "3.G) Insert letter 'o' in index position 3 "
   ]
  },
  {
   "cell_type": "code",
   "execution_count": 47,
   "metadata": {
    "colab": {},
    "colab_type": "code",
    "id": "s7gHxBgoNDvK"
   },
   "outputs": [
    {
     "name": "stdout",
     "output_type": "stream",
     "text": [
      "['white', 'red', 'blue', 'o', 'green', 'blue', 'yellow', 'black', ['a', 'e', 'i', 'o', 'i', 'u', 'y', 'w', 'tre', 'ytre', 'uyt']]\n"
     ]
    }
   ],
   "source": [
    "List=['white','red','blue','green','blue','yellow','black',['a','e','i','o','i','u','y','w','tre','ytre','uyt']]\n",
    "List.insert(3,'o')\n",
    "print(List)"
   ]
  },
  {
   "cell_type": "raw",
   "metadata": {
    "colab_type": "text",
    "id": "mtkDfja8NDvN"
   },
   "source": [
    "3.H) Remove the list element present in index position 3"
   ]
  },
  {
   "cell_type": "code",
   "execution_count": 50,
   "metadata": {
    "colab": {},
    "colab_type": "code",
    "id": "vJ3WawWZNDvO"
   },
   "outputs": [
    {
     "name": "stdout",
     "output_type": "stream",
     "text": [
      "['white', 'red', 'blue', 'green', 'blue', 'yellow', 'black', ['a', 'e', 'i', 'o', 'i', 'u', 'y', 'w', 'tre', 'ytre', 'uyt']]\n"
     ]
    }
   ],
   "source": [
    "List=['white','red','blue','o','green','blue','yellow','black',['a','e','i','o','i','u','y','w','tre','ytre','uyt']]\n",
    "List.remove('o')\n",
    "print(List)"
   ]
  },
  {
   "cell_type": "raw",
   "metadata": {
    "colab_type": "text",
    "id": "gpm1RipgNDvQ"
   },
   "source": [
    "3.I) Remove 'blue' from the list"
   ]
  },
  {
   "cell_type": "code",
   "execution_count": 72,
   "metadata": {},
   "outputs": [
    {
     "name": "stdout",
     "output_type": "stream",
     "text": [
      "['white', 'red', 'o', 'green', 'yellow', 'black', ['a', 'e', 'i', 'o', 'i', 'u', 'y', 'w', 'tre', 'ytre', 'uyt']]\n"
     ]
    }
   ],
   "source": [
    "List=['white','red','blue','o','green','blue','yellow','black',['a','e','i','o','i','u','y','w','tre','ytre','uyt']]\n",
    "for i in List[:]:\n",
    "    if(i=='blue'):\n",
    "        List.remove('blue')\n",
    "print(List)"
   ]
  },
  {
   "cell_type": "raw",
   "metadata": {
    "colab_type": "text",
    "id": "O1fnWG0PNDvS"
   },
   "source": [
    "3.j) Reverse all the elements present in the list"
   ]
  },
  {
   "cell_type": "code",
   "execution_count": 75,
   "metadata": {
    "colab": {},
    "colab_type": "code",
    "id": "wx46wVlWNDvS"
   },
   "outputs": [
    {
     "name": "stdout",
     "output_type": "stream",
     "text": [
      "[['a', 'e', 'i', 'o', 'i', 'u', 'y', 'w', 'tre', 'ytre', 'uyt'], 'black', 'yellow', 'green', 'o', 'red', 'white']\n"
     ]
    }
   ],
   "source": [
    "List=['white','red','o','green','yellow','black',['a','e','i','o','i','u','y','w','tre','ytre','uyt']]\n",
    "List.reverse()\n",
    "print(List)"
   ]
  },
  {
   "cell_type": "raw",
   "metadata": {
    "colab_type": "text",
    "id": "iihpj6eLNDvU"
   },
   "source": [
    "3.K) Sort the list in ascending order"
   ]
  },
  {
   "cell_type": "code",
   "execution_count": 119,
   "metadata": {
    "colab": {},
    "colab_type": "code",
    "id": "jnDgiTRkNDvV"
   },
   "outputs": [
    {
     "name": "stdout",
     "output_type": "stream",
     "text": [
      "['black', 'blue', 'blue', 'green', 'red', 'white', 'yellow']\n"
     ]
    }
   ],
   "source": [
    "List = ['white','red', 'blue', 'green','blue','yellow', 'black']\n",
    "List.sort()\n",
    "print(List)"
   ]
  },
  {
   "cell_type": "raw",
   "metadata": {
    "colab_type": "text",
    "id": "GpGUQUZvNDvX"
   },
   "source": [
    "4. Use the below sets and perform union, intersection, difference and symmetric difference\n",
    "\n",
    "        Set1 = {1,4,3,4,4,3,5,6,7,8,9,6,8,5,436,54,876,9876,87654,787654,56}\n",
    "        Set2 = {9,8,9,5,7,4,6,57,88,7654,8,876,678,8765,45,6789,8765,467,887,65}\n",
    "    "
   ]
  },
  {
   "cell_type": "raw",
   "metadata": {},
   "source": [
    "Union:"
   ]
  },
  {
   "cell_type": "code",
   "execution_count": 84,
   "metadata": {
    "colab": {},
    "colab_type": "code",
    "id": "fKdGvjGBNDvY"
   },
   "outputs": [
    {
     "name": "stdout",
     "output_type": "stream",
     "text": [
      "{1, 3, 4, 5, 6, 7, 8, 9, 6789, 9876, 678, 45, 436, 54, 56, 57, 8765, 65, 787654, 467, 88, 87654, 7654, 876, 887}\n"
     ]
    }
   ],
   "source": [
    "Set1 = {1,4,3,4,4,3,5,6,7,8,9,6,8,5,436,54,876,9876,87654,787654,56}\n",
    "Set2 = {9,8,9,5,7,4,6,57,88,7654,8,876,678,8765,45,6789,8765,467,887,65}\n",
    "U=Set1.union(Set2)\n",
    "print(U)"
   ]
  },
  {
   "cell_type": "raw",
   "metadata": {
    "colab_type": "text",
    "id": "Lr0LV0YbNDvc"
   },
   "source": [
    "Intersection:"
   ]
  },
  {
   "cell_type": "code",
   "execution_count": 83,
   "metadata": {
    "colab": {},
    "colab_type": "code",
    "id": "Eru4gzGDNDvd"
   },
   "outputs": [
    {
     "name": "stdout",
     "output_type": "stream",
     "text": [
      "{4, 5, 6, 7, 8, 9, 876}\n"
     ]
    }
   ],
   "source": [
    "I=Set1.intersection(Set2)\n",
    "print(I)"
   ]
  },
  {
   "cell_type": "raw",
   "metadata": {
    "colab_type": "text",
    "id": "-f1doL1INDvg"
   },
   "source": [
    "Difference:"
   ]
  },
  {
   "cell_type": "code",
   "execution_count": 87,
   "metadata": {
    "colab": {},
    "colab_type": "code",
    "id": "Y3lupr_7NDvh"
   },
   "outputs": [
    {
     "name": "stdout",
     "output_type": "stream",
     "text": [
      "{1, 3, 787654, 87654, 436, 9876, 54, 56}\n"
     ]
    }
   ],
   "source": [
    "D=Set1.difference(Set2)\n",
    "print(D)"
   ]
  },
  {
   "cell_type": "raw",
   "metadata": {
    "colab_type": "text",
    "id": "kPnoCMmENDvj"
   },
   "source": [
    "Symmetric difference:"
   ]
  },
  {
   "cell_type": "code",
   "execution_count": 88,
   "metadata": {
    "colab": {},
    "colab_type": "code",
    "id": "Idek56PJNDvk"
   },
   "outputs": [
    {
     "name": "stdout",
     "output_type": "stream",
     "text": [
      "{65, 1, 3, 787654, 6789, 467, 9876, 88, 7654, 678, 87654, 45, 436, 54, 887, 56, 57, 8765}\n"
     ]
    }
   ],
   "source": [
    "SD=Set1.symmetric_difference(Set2)\n",
    "print(SD)"
   ]
  },
  {
   "cell_type": "raw",
   "metadata": {
    "colab_type": "text",
    "id": "ujkvS9qJNDvn"
   },
   "source": [
    "5. Use the given dictionary and answer the below questions\n",
    "\n",
    "                            dictionaries = {'a': 'alpha', 'o': 'omega', 'g': 'gamma'}"
   ]
  },
  {
   "cell_type": "raw",
   "metadata": {
    "colab_type": "text",
    "id": "AZPNS03zNDvo"
   },
   "source": [
    "5.A) Wipe out all the items present in the dictionary"
   ]
  },
  {
   "cell_type": "code",
   "execution_count": 90,
   "metadata": {
    "colab": {},
    "colab_type": "code",
    "id": "EBbzUz5HNDvo"
   },
   "outputs": [
    {
     "name": "stdout",
     "output_type": "stream",
     "text": [
      "{}\n"
     ]
    }
   ],
   "source": [
    "dictionaries = {'a': 'alpha', 'o': 'omega', 'g': 'gamma'}\n",
    "dictionaries.clear()\n",
    "print(dictionaries)"
   ]
  },
  {
   "cell_type": "raw",
   "metadata": {
    "colab_type": "text",
    "id": "Q_9tfFfdNDvw"
   },
   "source": [
    "5.B) Copy all the items present in the dictionary to create a new variable"
   ]
  },
  {
   "cell_type": "code",
   "execution_count": 91,
   "metadata": {
    "colab": {},
    "colab_type": "code",
    "id": "U_QbHv6bNDvw"
   },
   "outputs": [
    {
     "name": "stdout",
     "output_type": "stream",
     "text": [
      "{'a': 'alpha', 'o': 'omega', 'g': 'gamma'}\n"
     ]
    }
   ],
   "source": [
    "dictionaries = {'a': 'alpha', 'o': 'omega', 'g': 'gamma'}\n",
    "copy_dict=dictionaries\n",
    "print(copy_dict)"
   ]
  },
  {
   "cell_type": "raw",
   "metadata": {
    "colab_type": "text",
    "id": "wxwkAmPyNDvy"
   },
   "source": [
    "5.C) How to get the output: {'a': None, 'o': None, 'e': None, 'u': None, 'i': None}"
   ]
  },
  {
   "cell_type": "code",
   "execution_count": 97,
   "metadata": {
    "colab": {},
    "colab_type": "code",
    "id": "dlMpsEqhNDvz"
   },
   "outputs": [
    {
     "name": "stdout",
     "output_type": "stream",
     "text": [
      "{'a': None, 'o': None, 'g': None}\n"
     ]
    }
   ],
   "source": [
    "dictionaries = {'a': 'alpha', 'o': 'omega', 'g': 'gamma'}\n",
    "res=dict.fromkeys(dictionaries)\n",
    "print(res)"
   ]
  },
  {
   "cell_type": "raw",
   "metadata": {
    "colab_type": "text",
    "id": "H-Q6pM38NDv1"
   },
   "source": [
    "5.D) Fetch all the items present in the dictionary"
   ]
  },
  {
   "cell_type": "code",
   "execution_count": 98,
   "metadata": {
    "colab": {},
    "colab_type": "code",
    "id": "WRfHDTYhNDv1"
   },
   "outputs": [
    {
     "data": {
      "text/plain": [
       "dict_items([('a', 'alpha'), ('o', 'omega'), ('g', 'gamma')])"
      ]
     },
     "execution_count": 98,
     "metadata": {},
     "output_type": "execute_result"
    }
   ],
   "source": [
    "dictionaries.items()"
   ]
  },
  {
   "cell_type": "raw",
   "metadata": {
    "colab_type": "text",
    "id": "hZz9h2bMNDv4"
   },
   "source": [
    "5.E) Fetch only the keys from the dictionary"
   ]
  },
  {
   "cell_type": "code",
   "execution_count": 99,
   "metadata": {
    "colab": {},
    "colab_type": "code",
    "id": "P4Zs0pszNDv4"
   },
   "outputs": [
    {
     "data": {
      "text/plain": [
       "dict_keys(['a', 'o', 'g'])"
      ]
     },
     "execution_count": 99,
     "metadata": {},
     "output_type": "execute_result"
    }
   ],
   "source": [
    "dictionaries.keys()"
   ]
  },
  {
   "cell_type": "raw",
   "metadata": {
    "colab_type": "text",
    "id": "aXRChXncNDv6"
   },
   "source": [
    "5.F) Insert key 'Salary' with no value in the dictionary"
   ]
  },
  {
   "cell_type": "code",
   "execution_count": 102,
   "metadata": {
    "colab": {},
    "colab_type": "code",
    "id": "0NCXOqBBNDv6"
   },
   "outputs": [
    {
     "name": "stdout",
     "output_type": "stream",
     "text": [
      "{'a': 'alpha', 'o': 'omega', 'g': 'gamma', 'salary': ' '}\n"
     ]
    }
   ],
   "source": [
    "dictionaries['salary']=\" \"\n",
    "dictionaries.update()\n",
    "print(dictionaries)"
   ]
  },
  {
   "cell_type": "raw",
   "metadata": {
    "colab_type": "text",
    "id": "gLOIs170NDv8"
   },
   "source": [
    "5.G) Insert key-value 3: 'three' inside the dictionary"
   ]
  },
  {
   "cell_type": "code",
   "execution_count": 106,
   "metadata": {
    "colab": {},
    "colab_type": "code",
    "id": "Y0T4-hqSNDv8"
   },
   "outputs": [
    {
     "name": "stdout",
     "output_type": "stream",
     "text": [
      "{'a': 'alpha', 'o': 'omega', 'g': 'gamma', 'salary': ' ', 3: ' '}\n"
     ]
    }
   ],
   "source": [
    "dictionaries[3]=' '\n",
    "dictionaries.update()\n",
    "print(dictionaries)"
   ]
  },
  {
   "cell_type": "raw",
   "metadata": {
    "colab_type": "text",
    "id": "_kdovPYmNDv-"
   },
   "source": [
    "5.H)  Fetch only the values from the dictionary"
   ]
  },
  {
   "cell_type": "code",
   "execution_count": 107,
   "metadata": {
    "colab": {},
    "colab_type": "code",
    "id": "xgm5d61jNDv_"
   },
   "outputs": [
    {
     "data": {
      "text/plain": [
       "dict_values(['alpha', 'omega', 'gamma', ' ', ' '])"
      ]
     },
     "execution_count": 107,
     "metadata": {},
     "output_type": "execute_result"
    }
   ],
   "source": [
    "dictionaries.values()"
   ]
  },
  {
   "cell_type": "raw",
   "metadata": {
    "colab_type": "text",
    "id": "UWw4vvDwNDwB"
   },
   "source": [
    "6. Store a number in a variable and check if that variable is equal to 10, If yes, print \"Hello\""
   ]
  },
  {
   "cell_type": "code",
   "execution_count": 111,
   "metadata": {
    "colab": {},
    "colab_type": "code",
    "id": "TYboAoY7NDwB"
   },
   "outputs": [
    {
     "name": "stdout",
     "output_type": "stream",
     "text": [
      "Hello\n"
     ]
    }
   ],
   "source": [
    "num=10\n",
    "if num==10:\n",
    "    print(\"Hello\")\n"
   ]
  },
  {
   "cell_type": "raw",
   "metadata": {
    "colab_type": "text",
    "id": "dg8569QWNDwH"
   },
   "source": [
    "7. Store a number in a variable and check if that variable is equal to 10, If yes, print \"Hello\", else print \"Good Bye\""
   ]
  },
  {
   "cell_type": "code",
   "execution_count": 112,
   "metadata": {
    "colab": {},
    "colab_type": "code",
    "id": "b3teYV7_NDwH"
   },
   "outputs": [
    {
     "name": "stdout",
     "output_type": "stream",
     "text": [
      "Good Bye\n"
     ]
    }
   ],
   "source": [
    "num=323\n",
    "if num==10:\n",
    "    print(\"Hello\")\n",
    "else:\n",
    "    print(\"Good Bye\")"
   ]
  },
  {
   "cell_type": "raw",
   "metadata": {
    "colab_type": "text",
    "id": "yV3fY_m2NDwM"
   },
   "source": [
    "8. Get an integer input from user (age of the user), if the number is between 0 to 17 print 'You are a kid', if the number is between 18 to 35 print 'You are in the correct age category', if the number is above 36 print 'you  have crossed the age limit' and if the number is negative print 'enter a positive number'"
   ]
  },
  {
   "cell_type": "code",
   "execution_count": 117,
   "metadata": {
    "colab": {},
    "colab_type": "code",
    "id": "1AaHPavoNDwN"
   },
   "outputs": [
    {
     "name": "stdout",
     "output_type": "stream",
     "text": [
      "Tell me your age: 21\n",
      "You are in correct age category\n"
     ]
    }
   ],
   "source": [
    "age=int(input(\"Tell me your age: \"))\n",
    "if age>=0 and age<18:\n",
    "    print(\"You are a kid\")\n",
    "elif age>=18 and age<36:\n",
    "    print(\"You are in correct age category\")\n",
    "elif age>36:\n",
    "    print(\"You have crossed your age limit\")\n",
    "elif age<0:\n",
    "    print(\"enter a positive number\")"
   ]
  }
 ],
 "metadata": {
  "colab": {
   "name": "Takehome-Day2 - Only Questions (1).ipynb",
   "provenance": []
  },
  "kernelspec": {
   "display_name": "Python 3",
   "language": "python",
   "name": "python3"
  },
  "language_info": {
   "codemirror_mode": {
    "name": "ipython",
    "version": 3
   },
   "file_extension": ".py",
   "mimetype": "text/x-python",
   "name": "python",
   "nbconvert_exporter": "python",
   "pygments_lexer": "ipython3",
   "version": "3.8.3"
  }
 },
 "nbformat": 4,
 "nbformat_minor": 1
}
