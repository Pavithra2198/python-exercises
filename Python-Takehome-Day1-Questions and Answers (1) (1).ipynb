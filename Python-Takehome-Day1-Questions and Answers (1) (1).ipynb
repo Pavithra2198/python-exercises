{
 "cells": [
  {
   "cell_type": "raw",
   "metadata": {
    "colab_type": "text",
    "id": "21KtRpyGIckL"
   },
   "source": [
    "1. Take two inputs from user and check whether they are equal or not."
   ]
  },
  {
   "cell_type": "code",
   "execution_count": 2,
   "metadata": {
    "colab": {},
    "colab_type": "code",
    "id": "VAIeB3vmIckN",
    "scrolled": true
   },
   "outputs": [
    {
     "name": "stdout",
     "output_type": "stream",
     "text": [
      "data1: hello\n",
      "data2: world\n",
      "False\n"
     ]
    }
   ],
   "source": [
    "data1=input(\"data1: \")\n",
    "data2=input(\"data2: \")\n",
    "print(data1==data2)"
   ]
  },
  {
   "cell_type": "raw",
   "metadata": {
    "colab_type": "text",
    "id": "jMBBv9RbIckS"
   },
   "source": [
    "2. Take a single digit integer input from the user for example (3), print an output \n",
    "\n",
    "---\n",
    "\n",
    "(3+(33))\n"
   ]
  },
  {
   "cell_type": "code",
   "execution_count": 3,
   "metadata": {
    "colab": {},
    "colab_type": "code",
    "id": "9iuvz30RIckT"
   },
   "outputs": [
    {
     "name": "stdout",
     "output_type": "stream",
     "text": [
      "single digit integer: 15\n",
      "(15+(1515))\n",
      "1530\n"
     ]
    }
   ],
   "source": [
    "digit=int(input(\"single digit integer: \"))\n",
    "print(\"({0}+({0}{0}))\".format(digit))\n",
    "n1=int(\"%s\" %digit)\n",
    "n2=int(\"%s%s\" %(digit,digit))\n",
    "sum=n1+n2\n",
    "print(sum)"
   ]
  },
  {
   "cell_type": "raw",
   "metadata": {
    "colab_type": "text",
    "id": "-6Vyt6WrIckX"
   },
   "source": [
    "3.  Write Python code to get a runtime variable as float and display as integer\n",
    "                   input: float number\n",
    "                   output: int number"
   ]
  },
  {
   "cell_type": "code",
   "execution_count": 4,
   "metadata": {
    "colab": {},
    "colab_type": "code",
    "id": "HgZbKiQEIckY",
    "scrolled": false
   },
   "outputs": [
    {
     "name": "stdout",
     "output_type": "stream",
     "text": [
      "float number: 21.34\n",
      "integer num:  21\n"
     ]
    }
   ],
   "source": [
    "float_num=float(input(\"float number: \"))\n",
    "int_num=int(float_num)\n",
    "print(\"integer num: \",int_num)"
   ]
  },
  {
   "cell_type": "raw",
   "metadata": {
    "colab_type": "text",
    "id": "tVLNiT5_Ickb"
   },
   "source": [
    "4. Create a single string from a LIST of characters.\n",
    " For Example :\n",
    " charList = ['p','y','t','h','o','n',' ','p','r','o','g','r','a','m','m','i','n','g']\n",
    " Output: python programming"
   ]
  },
  {
   "cell_type": "code",
   "execution_count": 5,
   "metadata": {
    "colab": {},
    "colab_type": "code",
    "id": "0q_IJRvuIckc"
   },
   "outputs": [
    {
     "data": {
      "text/plain": [
       "'python programming'"
      ]
     },
     "execution_count": 5,
     "metadata": {},
     "output_type": "execute_result"
    }
   ],
   "source": [
    "charList = ['p','y','t','h','o','n',' ','p','r','o','g','r','a','m','m','i','n','g']\n",
    "string=\"\"\n",
    "string.join(charList)"
   ]
  },
  {
   "cell_type": "raw",
   "metadata": {
    "colab_type": "text",
    "id": "U8HCfXYcIckg"
   },
   "source": [
    "5. Python Program to Convert Celsius  to Fahrenheit\n",
    "  celsius * 1.8 = fahrenheit - 32"
   ]
  },
  {
   "cell_type": "code",
   "execution_count": 6,
   "metadata": {
    "colab": {},
    "colab_type": "code",
    "id": "bS2q1gvdIckg"
   },
   "outputs": [
    {
     "name": "stdout",
     "output_type": "stream",
     "text": [
      "celsius: 50\n",
      "50.00 celsius is: 122.00fahrenheit\n"
     ]
    }
   ],
   "source": [
    "celsius=float(input(\"celsius: \"))\n",
    "fahrenheit=(celsius * 1.8)+32\n",
    "print(\"%0.2f celsius is: %0.2ffahrenheit\"% (celsius,fahrenheit))"
   ]
  },
  {
   "cell_type": "raw",
   "metadata": {
    "colab_type": "text",
    "id": "m4hjdLrnIckm"
   },
   "source": [
    "6. Write a program which reverse the given input number."
   ]
  },
  {
   "cell_type": "code",
   "execution_count": 7,
   "metadata": {
    "colab": {},
    "colab_type": "code",
    "id": "7-kf_-I5Ickn"
   },
   "outputs": [
    {
     "name": "stdout",
     "output_type": "stream",
     "text": [
      "enter a num: 5\n",
      "the reversed number is: 5\n"
     ]
    }
   ],
   "source": [
    "num=str(input(\"enter a num: \"))\n",
    "rev=(num[::-1])\n",
    "print(\"the reversed number is:\",rev)"
   ]
  },
  {
   "cell_type": "raw",
   "metadata": {
    "colab_type": "text",
    "id": "N_056yUoIckv"
   },
   "source": [
    "7. Check if the given runtime variable nm = \"madam\" is Palindrome without using loop, output can be boolean."
   ]
  },
  {
   "cell_type": "code",
   "execution_count": 8,
   "metadata": {
    "colab": {},
    "colab_type": "code",
    "id": "YPY1RYlIIckw"
   },
   "outputs": [
    {
     "name": "stdout",
     "output_type": "stream",
     "text": [
      "True\n"
     ]
    }
   ],
   "source": [
    "nm=\"madam\"\n",
    "rev=nm[::-1]\n",
    "print(nm==rev)\n"
   ]
  },
  {
   "cell_type": "raw",
   "metadata": {
    "colab_type": "text",
    "id": "CujCTN1QIck4"
   },
   "source": [
    "8.Write a Python code for the below question:\n",
    "For a given number of days, find how many weeks and balance how many days are left \n",
    "eg. input = 15 days, \n",
    "Output: # weeks = 2, # days left = 1"
   ]
  },
  {
   "cell_type": "code",
   "execution_count": 9,
   "metadata": {
    "colab": {},
    "colab_type": "code",
    "id": "HX4JbQwwIck4"
   },
   "outputs": [
    {
     "name": "stdout",
     "output_type": "stream",
     "text": [
      "no.of days: 21\n",
      "weeks=3 and days_left=0\n"
     ]
    }
   ],
   "source": [
    "days=int(input(\"no.of days: \"))\n",
    "week=days//7\n",
    "days_left=days%7\n",
    "print(\"weeks={0} and days_left={1}\".format(week,days_left))"
   ]
  },
  {
   "cell_type": "raw",
   "metadata": {
    "colab_type": "text",
    "id": "H2p6mCxIIck8"
   },
   "source": [
    "9. Check if the given number is even  without using loops. Output can be in boolean"
   ]
  },
  {
   "cell_type": "code",
   "execution_count": 10,
   "metadata": {},
   "outputs": [
    {
     "name": "stdout",
     "output_type": "stream",
     "text": [
      "enter a number: 12\n"
     ]
    },
    {
     "data": {
      "text/plain": [
       "True"
      ]
     },
     "execution_count": 10,
     "metadata": {},
     "output_type": "execute_result"
    }
   ],
   "source": [
    "num=int(input(\"enter a number: \"))\n",
    "num%2==0  "
   ]
  },
  {
   "cell_type": "code",
   "execution_count": null,
   "metadata": {},
   "outputs": [],
   "source": []
  }
 ],
 "metadata": {
  "colab": {
   "collapsed_sections": [],
   "name": "Python-Takehome-Day1-Questions.ipynb",
   "provenance": []
  },
  "kernelspec": {
   "display_name": "Python 3",
   "language": "python",
   "name": "python3"
  },
  "language_info": {
   "codemirror_mode": {
    "name": "ipython",
    "version": 3
   },
   "file_extension": ".py",
   "mimetype": "text/x-python",
   "name": "python",
   "nbconvert_exporter": "python",
   "pygments_lexer": "ipython3",
   "version": "3.8.3"
  }
 },
 "nbformat": 4,
 "nbformat_minor": 1
}
