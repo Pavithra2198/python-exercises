{
 "cells": [
  {
   "cell_type": "markdown",
   "metadata": {
    "colab_type": "text",
    "id": "HjYHewEle6Ip"
   },
   "source": [
    "ITP,NPV,EDA,STATS,ML \n",
    "\n",
    "1.Proctor violation exceeds 5 attempts test will be terminated.\n",
    "\n",
    "2.The test will run in a proctored mode and you will not be allowed to go out of the test window. Failing to adhere to this will result in auto-submission of the test\n",
    "\n",
    "3.Once the ‘Start Test’ button is clicked the test timer will start\n",
    "\n",
    "4.The test can only be taken in the fullscreen mode. Disabling the fullscreen will pause the test but not the timer\n",
    "\n",
    "5.All the responses are automatically updated to the server at the time of test submission\n",
    "\n",
    "6.Please kindly off all the update notifications pop-ups during the test duration, if something pops up it consider a full-screen violation.\n",
    "\n",
    "7.Please kindly have proper internet connectivity while taking the test with at least upload speed/download speed more than 1 Mbps.\n",
    "\n",
    "8.Copy-paste within the test window is permitted, if not able to do and the cell is markdown kindly double tap on the cell once the cell is raw convert can copy-paste, external content copy-paste is not permitted/allowed.\n",
    "\n",
    "9.ESC can't be used/work during the exam time.\n",
    "\n",
    "10.Right click over a keypad/mouse should/can not be used.\n",
    "\n",
    "11. Please maintain an internet speed of least 1 Mbps if possible higher than 5 mbps of upload speed before starting test.\n",
    " "
   ]
  },
  {
   "cell_type": "markdown",
   "metadata": {
    "colab_type": "text",
    "id": "JTEbs_KGamXO"
   },
   "source": [
    "# Section A : 2 Mark Questions : 2 * 3 = 6 Marks"
   ]
  },
  {
   "cell_type": "markdown",
   "metadata": {
    "colab_type": "text",
    "id": "DO8wFiWKamXP"
   },
   "source": [
    "### 1. Write a code snippet to concatenate firstname and lastname and display the output, (where both are of string datatype)"
   ]
  },
  {
   "cell_type": "code",
   "execution_count": 1,
   "metadata": {
    "colab": {},
    "colab_type": "code",
    "id": "yxJr4nWOamXQ",
    "outputId": "9291c510-f014-4bc1-e6dc-53311d8dffbd"
   },
   "outputs": [
    {
     "name": "stdout",
     "output_type": "stream",
     "text": [
      "First name: Pavithra\n",
      "Last name: Raja\n",
      "Full name is:  PavithraRaja\n"
     ]
    }
   ],
   "source": [
    "firstname=str(input(\"First name: \"))\n",
    "lastname=str(input(\"Last name: \"))\n",
    "fullname=firstname+lastname\n",
    "print(\"Full name is: \",fullname)"
   ]
  },
  {
   "cell_type": "raw",
   "metadata": {
    "colab_type": "text",
    "id": "qIQx7oj2amXX"
   },
   "source": [
    "### 2. Write a code snippet to replace ‘hai’ into ‘hello’ in the given list.\n",
    "lis=['hai','world',43,56]"
   ]
  },
  {
   "cell_type": "code",
   "execution_count": 2,
   "metadata": {},
   "outputs": [
    {
     "name": "stdout",
     "output_type": "stream",
     "text": [
      "['hello', 'world', 43, 56]\n"
     ]
    }
   ],
   "source": [
    "lis=['hai','world',43,56]\n",
    "lis[0]='hello'\n",
    "print(lis)"
   ]
  },
  {
   "cell_type": "raw",
   "metadata": {
    "colab_type": "text",
    "id": "qcjWvn5-amXg"
   },
   "source": [
    "### 3. Write a code snippet to add “alpha”:26 to the existing dictionary.\n",
    "dic={'Eddy':13,'Maria':44,'Jas':21}"
   ]
  },
  {
   "cell_type": "code",
   "execution_count": 3,
   "metadata": {},
   "outputs": [
    {
     "name": "stdout",
     "output_type": "stream",
     "text": [
      "dic= {'Eddy': 13, 'Maria': 44, 'Jas': 21, 'alpha': 26}\n"
     ]
    }
   ],
   "source": [
    "dic={'Eddy':13,'Maria':44,'Jas':21}\n",
    "dic['alpha']=26\n",
    "print(\"dic=\",dic)"
   ]
  },
  {
   "cell_type": "markdown",
   "metadata": {
    "colab_type": "text",
    "id": "7HT9Yj9yamX2"
   },
   "source": [
    "# SECTION B – 3 mark questions  3*8 = 24 marks"
   ]
  },
  {
   "cell_type": "markdown",
   "metadata": {
    "colab_type": "text",
    "id": "nmNsUS7PamXv"
   },
   "source": [
    "### 4. Write a program to print only the even numbers till 11.\n",
    "\n",
    "   \n",
    "\n",
    "\n"
   ]
  },
  {
   "cell_type": "code",
   "execution_count": 4,
   "metadata": {},
   "outputs": [
    {
     "name": "stdout",
     "output_type": "stream",
     "text": [
      "2 4 6 8 10 "
     ]
    }
   ],
   "source": [
    "for i in range(1,12):\n",
    "    if i%2==0:\n",
    "        print(i,end=\" \")"
   ]
  },
  {
   "cell_type": "markdown",
   "metadata": {
    "colab_type": "text",
    "id": "yeR9EuDSamX3"
   },
   "source": [
    "### 5. Write a program to print “Python” for multiples of three instead of the number, “Coding” for the multiples of five, “Python Coding” for multiples of both three and five (range is from 1 to 26)."
   ]
  },
  {
   "cell_type": "code",
   "execution_count": 5,
   "metadata": {},
   "outputs": [
    {
     "name": "stdout",
     "output_type": "stream",
     "text": [
      "3 Python\n",
      "5 Coding\n",
      "6 Python\n",
      "9 Python\n",
      "10 Coding\n",
      "12 Python\n",
      "15 Python Coding\n",
      "18 Python\n",
      "20 Coding\n",
      "21 Python\n",
      "24 Python\n",
      "25 Coding\n"
     ]
    }
   ],
   "source": [
    "for i in range(1,26):\n",
    "    if i%3==0 and i%5==0:\n",
    "        print(i,\"Python Coding\")\n",
    "    elif i%3==0:\n",
    "        print(i,\"Python\")\n",
    "    elif i%5==0:\n",
    "        print(i,\"Coding\")        "
   ]
  },
  {
   "cell_type": "markdown",
   "metadata": {
    "colab_type": "text",
    "id": "fbboCHo5amX6"
   },
   "source": [
    "### 6. Write a program to display “hello world” 5 times without changing the given while condition (while count<=10)."
   ]
  },
  {
   "cell_type": "code",
   "execution_count": 8,
   "metadata": {},
   "outputs": [
    {
     "name": "stdout",
     "output_type": "stream",
     "text": [
      "hello world\n",
      "hello world\n",
      "hello world\n",
      "hello world\n",
      "hello world\n"
     ]
    }
   ],
   "source": [
    "count=6\n",
    "while(count<=10):\n",
    "    print(\"hello world\")\n",
    "    count=count+1    "
   ]
  },
  {
   "cell_type": "markdown",
   "metadata": {
    "colab_type": "text",
    "id": "Ajyf9IVNamYD"
   },
   "source": [
    "### 7. Write a program to find the factors of 24?"
   ]
  },
  {
   "cell_type": "code",
   "execution_count": 11,
   "metadata": {},
   "outputs": [
    {
     "name": "stdout",
     "output_type": "stream",
     "text": [
      "1\n",
      "2\n",
      "3\n",
      "4\n",
      "6\n",
      "8\n",
      "12\n",
      "24\n"
     ]
    }
   ],
   "source": [
    "input_number=24\n",
    "for i in range(1,25):\n",
    "    if input_number%i==0:\n",
    "        print(i)"
   ]
  },
  {
   "cell_type": "raw",
   "metadata": {
    "colab_type": "text",
    "id": "mPow30bOamYH"
   },
   "source": [
    "### 8. Write a program to i) extract name elements alone, ii) multiply the number element by 6.07, iii) check whether  the name element is carbon (use map). \n",
    "d=[{'name':'hydrogen','number':1,'weight':1.0},{'name':'carbon','number':2,'weight':4.002}]"
   ]
  },
  {
   "cell_type": "code",
   "execution_count": 128,
   "metadata": {},
   "outputs": [
    {
     "name": "stdout",
     "output_type": "stream",
     "text": [
      "hydrogen\n",
      "carbon\n"
     ]
    }
   ],
   "source": [
    "d=[{'name':'hydrogen','number':1,'weight':1.0},{'name':'carbon','number':2,'weight':4.002}]\n",
    "print(d[0]['name'])\n",
    "print(d[1]['name'])"
   ]
  },
  {
   "cell_type": "code",
   "execution_count": 89,
   "metadata": {},
   "outputs": [
    {
     "name": "stdout",
     "output_type": "stream",
     "text": [
      "6.07\n",
      "12.14\n"
     ]
    }
   ],
   "source": [
    "mul=6.07\n",
    "a=d[0]['number']\n",
    "print(a*mul)\n",
    "b=d[1]['number']\n",
    "print(b*mul)"
   ]
  },
  {
   "cell_type": "code",
   "execution_count": 126,
   "metadata": {},
   "outputs": [
    {
     "name": "stdout",
     "output_type": "stream",
     "text": [
      "['c', 'a', 'r', 'b', 'o', 'n']\n"
     ]
    }
   ],
   "source": [
    "x=(d[1]['name'])\n",
    "print(list(map(lambda x:x,x)))"
   ]
  },
  {
   "cell_type": "markdown",
   "metadata": {
    "colab_type": "text",
    "id": "a3JOkl1-amYK"
   },
   "source": [
    "### 9. Write a Program to print inverted half pyramid using an asterisk (star) (get the row count from the user)."
   ]
  },
  {
   "cell_type": "code",
   "execution_count": 48,
   "metadata": {
    "colab": {},
    "colab_type": "code",
    "id": "AfyIXdPPamYK"
   },
   "outputs": [
    {
     "name": "stdout",
     "output_type": "stream",
     "text": [
      "row count= 5\n",
      "* * * * * \n",
      "* * * * \n",
      "* * * \n",
      "* * \n",
      "* \n"
     ]
    }
   ],
   "source": [
    "row=int(input(\"row count= \"))\n",
    "for i in range(row,0,-1):\n",
    "    for j in range(1,i+1):\n",
    "        print(\"*\",end=\" \")\n",
    "    print()"
   ]
  },
  {
   "cell_type": "markdown",
   "metadata": {
    "colab_type": "text",
    "id": "2iLWqYhcamYN"
   },
   "source": [
    "### 10. Write a Python Program to swap the first and last elements in the list\n",
    "1.\tGet the input count of \"number of elements in a list\" \n",
    "2.\tGet the input of the elements one by one and create a list\n",
    "3.\tCreate a  program to swap the first and last elements in the list\n",
    "4.\tDisplay the results of the list before and after\n"
   ]
  },
  {
   "cell_type": "code",
   "execution_count": 52,
   "metadata": {},
   "outputs": [
    {
     "name": "stdout",
     "output_type": "stream",
     "text": [
      "number of elements in a list: 4\n",
      "elements: 10\n",
      "elements: 20\n",
      "elements: 30\n",
      "elements: 40\n",
      "List: [10, 20, 30, 40]\n",
      "new list: [40, 20, 30, 10]\n"
     ]
    }
   ],
   "source": [
    "count=int(input(\"number of elements in a list: \"))\n",
    "lst=[ ]\n",
    "for i in range(0,count):\n",
    "    elements=int(input(\"elements: \"))\n",
    "    lst.append(elements)\n",
    "print(\"List:\",lst)\n",
    "lst[0],lst[-1]=lst[-1],lst[0]\n",
    "print(\"new list:\",lst)\n"
   ]
  },
  {
   "cell_type": "markdown",
   "metadata": {
    "colab_type": "text",
    "id": "C6u4MmOrgVlk"
   },
   "source": [
    "#### 11. Write a program that accepts a string from the user and calculate the number of digits and letters present in the string.\n"
   ]
  },
  {
   "cell_type": "code",
   "execution_count": 69,
   "metadata": {},
   "outputs": [
    {
     "name": "stdout",
     "output_type": "stream",
     "text": [
      "enter a string that contains numerals: arch12med54eng980\n",
      "numbers in string: ['1', '2', '5', '4', '9', '8', '0'] \n",
      "count= 7\n",
      "letters in string: ['a', 'r', 'c', 'h', 'm', 'e', 'd', 'e', 'n', 'g'] \n",
      "count= 10\n"
     ]
    }
   ],
   "source": [
    "string=input(\"enter a string that contains numerals: \")\n",
    "num='1234567890'\n",
    "a=[i for i in string if i in num]\n",
    "print(\"numbers in string:\",a,\"\\ncount=\",len(a))\n",
    "b=[i for i in string if i not in num]\n",
    "print(\"letters in string:\",b,\"\\ncount=\",len(b))"
   ]
  },
  {
   "cell_type": "code",
   "execution_count": null,
   "metadata": {},
   "outputs": [],
   "source": []
  }
 ],
 "metadata": {
  "colab": {
   "collapsed_sections": [],
   "name": "ITP_Assessment_Questions (1).ipynb",
   "provenance": []
  },
  "kernelspec": {
   "display_name": "Python 3",
   "language": "python",
   "name": "python3"
  },
  "language_info": {
   "codemirror_mode": {
    "name": "ipython",
    "version": 3
   },
   "file_extension": ".py",
   "mimetype": "text/x-python",
   "name": "python",
   "nbconvert_exporter": "python",
   "pygments_lexer": "ipython3",
   "version": "3.8.3"
  }
 },
 "nbformat": 4,
 "nbformat_minor": 1
}
